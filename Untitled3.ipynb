{
  "nbformat": 4,
  "nbformat_minor": 0,
  "metadata": {
    "colab": {
      "provenance": [],
      "collapsed_sections": [],
      "authorship_tag": "ABX9TyOrV0Cb3vLox71F4/kIIzCz",
      "include_colab_link": true
    },
    "kernelspec": {
      "name": "python3",
      "display_name": "Python 3"
    },
    "language_info": {
      "name": "python"
    },
    "gpuClass": "standard"
  },
  "cells": [
    {
      "cell_type": "markdown",
      "metadata": {
        "id": "view-in-github",
        "colab_type": "text"
      },
      "source": [
        "<a href=\"https://colab.research.google.com/github/donaldRwilliams/notebook/blob/main/Untitled3.ipynb\" target=\"_parent\"><img src=\"https://colab.research.google.com/assets/colab-badge.svg\" alt=\"Open In Colab\"/></a>"
      ]
    },
    {
      "cell_type": "code",
      "execution_count": 4,
      "metadata": {
        "id": "B6CBo0Id_gp2"
      },
      "outputs": [],
      "source": [
        "%load_ext rpy2.ipython\n",
        "\n",
        "import pandas as pd\n",
        "df = pd.DataFrame({\n",
        "    'cups_of_coffee': [0, 1, 2, 3, 4, 5, 6, 7, 8, 9],\n",
        "    'productivity': [2, 5, 6, 8, 9, 8, 0, 1, 0, -1]\n",
        "})"
      ]
    },
    {
      "cell_type": "code",
      "source": [
        "%%R -i df -w 5 -h 5 --units in -r 200\n",
        "# import df from global environment\n",
        "# make default figure size 5 by 5 inches with 200 dpi resolution\n",
        "\n",
        "install.packages(\"ggplot2\", repos='http://cran.us.r-project.org', quiet=TRUE)\n",
        "library(ggplot2)\n",
        "ggplot(df, aes(x=cups_of_coffee, y=productivity)) + geom_line()\n",
        "\n",
        "\n",
        "temp <- data.frame(test = 1)\n",
        "write.csv(temp, \"notebook/temp.csv\")"
      ],
      "metadata": {
        "id": "i181gkAXB-hr"
      },
      "execution_count": 8,
      "outputs": []
    },
    {
      "cell_type": "code",
      "source": [],
      "metadata": {
        "colab": {
          "base_uri": "https://localhost:8080/"
        },
        "id": "plnAvYPx5UhN",
        "outputId": "ca9ebbf0-8455-4840-e190-ef108c03c84e"
      },
      "execution_count": 11,
      "outputs": [
        {
          "output_type": "stream",
          "name": "stdout",
          "text": [
            "fatal: not a git repository (or any of the parent directories): .git\n"
          ]
        }
      ]
    }
  ]
}